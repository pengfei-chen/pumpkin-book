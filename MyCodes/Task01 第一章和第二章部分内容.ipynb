{
 "cells": [
  {
   "cell_type": "markdown",
   "id": "48490e86",
   "metadata": {},
   "source": [
    "### 随便写点~"
   ]
  },
  {
   "cell_type": "markdown",
   "id": "64f8a191",
   "metadata": {},
   "source": [
    "1；机器学习，就是利用机器去发现数据、事务内部的规律和逻辑。\n",
    "\n",
    "2；从旧的事务中总结、提炼出来规律，推广到以后要面对的新的事务上去。 （范化能力，才是学习一个模型的出发点。）\n",
    "\n",
    "3；基本术语讲了些基本概念，训练、预测；分类回归聚类降维等。\n",
    "\n",
    "4；奥卡姆剃刀：能达成同样目的的多种方法，选择最简单的那个。\n",
    "\n",
    "5；公式证明，搞不懂。。\n",
    "\n",
    "6；发展历程，看了就忘。。\n",
    "\n",
    "7；过拟合与欠拟合：\n",
    "过拟合就是过于死记硬背，没有找到事物本身通用的规律。学习了很多噪声数据进来，造成模型预测新数据的能力降低。\n",
    "欠拟合就是对现有数据的规律发现不够，还需要进一步增加模型的复杂度等去找到更多的规律。\n",
    "\n",
    "8；评估方法，没有测量就没有科学。充分利用数据来验证现有模型效果如何。取一法、留出法、交叉验证法、自采样法等。\n",
    "\n",
    "9；超参数的设置，可以影响到模型最后的参数（其他参数），超参数的设计人工经验选取的时候，吴恩达老师的建议是以3倍的速度增大或者减少参数，逐步搜索。网格搜索、随机搜索、贝叶斯调参等方式比较常见。\n",
    "\n",
    "10；性能度量\n",
    "分类：P、R、F1、AUC、KS等\n",
    "回归：RMSE、MAE、MAPE等 \n",
    "聚类：高内聚低耦合的原则。同类内方差尽可能小。不同类内方差尽可能大。欧式距离和方差类似逻辑。\n",
    "\n",
    "最后：数学渣渣，希望在往后学习中能多少学到点数学知识和数学上对这些内容的理解。"
   ]
  },
  {
   "cell_type": "code",
   "execution_count": null,
   "id": "f270c592",
   "metadata": {},
   "outputs": [],
   "source": []
  }
 ],
 "metadata": {
  "kernelspec": {
   "display_name": "Python 3",
   "language": "python",
   "name": "python3"
  },
  "language_info": {
   "codemirror_mode": {
    "name": "ipython",
    "version": 3
   },
   "file_extension": ".py",
   "mimetype": "text/x-python",
   "name": "python",
   "nbconvert_exporter": "python",
   "pygments_lexer": "ipython3",
   "version": "3.8.8"
  }
 },
 "nbformat": 4,
 "nbformat_minor": 5
}
